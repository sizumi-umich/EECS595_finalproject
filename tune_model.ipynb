{
 "cells": [
  {
   "cell_type": "code",
   "execution_count": 1,
   "id": "b2ec3531",
   "metadata": {},
   "outputs": [],
   "source": [
    "import torch\n",
    "import pandas as pd\n",
    "import matplotlib.pyplot as plt\n",
    "from model import read_data,train"
   ]
  },
  {
   "cell_type": "code",
   "execution_count": 2,
   "id": "69713473",
   "metadata": {},
   "outputs": [],
   "source": [
    "P = 50; Q = 50; J = 100\n",
    "num_epochs = 50; batch_size = 5; hidden_size = 1; learning_rate = 0.01; loss_type = \"L1\"\n",
    "dates_split,K,V,Y = read_data(P,Q,J)"
   ]
  },
  {
   "cell_type": "code",
   "execution_count": 3,
   "id": "25ee93b9",
   "metadata": {},
   "outputs": [
    {
     "data": {
      "application/vnd.jupyter.widget-view+json": {
       "model_id": "bbe19e2c75444e45bb93a2de9fbf8afd",
       "version_major": 2,
       "version_minor": 0
      },
      "text/plain": [
       "  0%|          | 0/50 [00:00<?, ?it/s]"
      ]
     },
     "metadata": {},
     "output_type": "display_data"
    },
    {
     "name": "stdout",
     "output_type": "stream",
     "text": [
      "Epoch 0, Loss: 0.885, S:[0.0, 0.0, 0.0, 0.0, 0.0, 0.0]\n",
      "Epoch 1, Loss: 0.887, S:[0.0, 0.0, 0.0, 0.0, 0.0, 0.0]\n",
      "Epoch 2, Loss: 0.863, S:[0.0, 0.0, 0.0, 0.0, 0.0, 0.0]\n",
      "Epoch 3, Loss: 0.856, S:[0.0, 0.528, 0.0, 0.0, 0.0, 0.0]\n",
      "Epoch 4, Loss: 0.837, S:[0.0, 0.528, 0.0, 0.0, 0.0, 0.0]\n",
      "Epoch 5, Loss: 0.84, S:[0.0, 0.528, 0.587, 0.0, 0.0, 0.0]\n",
      "Epoch 6, Loss: 0.826, S:[0.0, 0.528, 0.587, 0.0, 0.0, 0.0]\n",
      "Epoch 7, Loss: 0.817, S:[0.554, 0.528, 0.587, 0.0, 0.552, 0.0]\n",
      "Epoch 8, Loss: 0.804, S:[0.554, 0.528, 0.587, 0.593, 0.552, 0.0]\n",
      "Epoch 9, Loss: 0.801, S:[0.554, 0.528, 0.587, 0.593, 0.552, 0.556]\n",
      "Epoch 10, Loss: 0.777, S:[0.554, 0.528, 0.587, 0.593, 0.552, 0.556]\n",
      "Epoch 11, Loss: 0.745, S:[0.554, 0.528, 0.587, 1.12, 0.552, 0.556]\n",
      "Epoch 12, Loss: 0.741, S:[0.554, 0.528, 0.587, 1.12, 0.552, 0.556]\n",
      "Epoch 13, Loss: 0.723, S:[0.554, 0.528, 0.587, 1.12, 0.552, 1.114]\n",
      "Epoch 14, Loss: 0.712, S:[0.554, 0.528, 0.587, 1.12, 0.552, 1.114]\n",
      "Epoch 15, Loss: 0.697, S:[0.554, 0.528, 0.587, 1.12, 0.552, 1.114]\n",
      "Epoch 16, Loss: 0.701, S:[0.554, 1.166, 0.587, 1.12, 0.552, 1.114]\n",
      "Epoch 17, Loss: 0.672, S:[0.554, 1.166, 1.099, 1.12, 0.552, 1.114]\n",
      "Epoch 18, Loss: 0.654, S:[1.176, 1.166, 1.099, 1.12, 1.101, 1.114]\n",
      "Epoch 19, Loss: 0.647, S:[1.176, 1.166, 1.099, 1.12, 1.101, 1.114]\n",
      "Epoch 20, Loss: 0.628, S:[1.176, 1.605, 1.099, 1.12, 1.101, 1.479]\n",
      "Epoch 21, Loss: 0.609, S:[1.176, 1.605, 1.099, 1.12, 1.101, 1.479]\n",
      "Epoch 22, Loss: 0.588, S:[1.176, 1.605, 1.099, 1.12, 1.101, 1.479]\n",
      "Epoch 23, Loss: 0.585, S:[1.176, 1.605, 1.099, 1.12, 1.101, 1.479]\n",
      "Epoch 24, Loss: 0.574, S:[1.176, 1.605, 1.099, 1.12, 1.101, 1.479]\n",
      "Epoch 25, Loss: 0.558, S:[1.176, 1.605, 1.099, 1.12, 1.101, 1.479]\n",
      "Epoch 26, Loss: 0.52, S:[1.176, 1.605, 1.457, 1.12, 1.444, 1.479]\n",
      "Epoch 27, Loss: 0.508, S:[1.176, 1.605, 1.457, 1.12, 1.444, 1.479]\n",
      "Epoch 28, Loss: 0.476, S:[1.176, 1.605, 1.457, 1.12, 1.444, 1.479]\n",
      "Epoch 29, Loss: 0.496, S:[1.386, 1.605, 1.457, 1.32, 1.444, 1.479]\n",
      "Epoch 30, Loss: 0.488, S:[1.386, 1.379, 1.457, 1.32, 1.444, 1.479]\n",
      "Epoch 31, Loss: 0.484, S:[1.219, 1.379, 1.457, 1.32, 1.444, 1.479]\n",
      "Epoch 32, Loss: 0.487, S:[1.219, 1.379, 1.457, 1.32, 1.444, 1.479]\n",
      "Epoch 33, Loss: 0.496, S:[1.219, 1.379, 1.457, 1.32, 1.444, 1.479]\n",
      "Epoch 34, Loss: 0.492, S:[1.219, 1.379, 1.457, 1.32, 1.444, 1.479]\n",
      "Epoch 35, Loss: 0.487, S:[1.219, 1.379, 1.457, 1.32, 1.059, 1.221]\n",
      "Epoch 36, Loss: 0.501, S:[1.219, 1.379, 1.203, 1.32, 1.059, 1.221]\n",
      "Epoch 37, Loss: 0.5, S:[1.219, 1.379, 1.203, 1.073, 1.059, 1.221]\n",
      "Epoch 38, Loss: 0.517, S:[1.219, 1.379, 1.203, 1.073, 1.059, 1.221]\n",
      "Epoch 39, Loss: 0.503, S:[1.219, 1.379, 1.203, 1.073, 1.059, 1.221]\n",
      "Epoch 40, Loss: 0.488, S:[1.219, 1.379, 0.806, 1.073, 1.059, 0.878]\n",
      "Epoch 41, Loss: 0.509, S:[1.219, 1.05, 0.806, 1.073, 1.059, 0.878]\n",
      "Epoch 42, Loss: 0.493, S:[1.219, 1.05, 0.806, 1.073, 1.059, 0.878]\n",
      "Epoch 43, Loss: 0.482, S:[1.219, 1.05, 0.806, 1.073, 1.059, 0.878]\n",
      "Epoch 44, Loss: 0.485, S:[1.219, 1.05, 0.806, 1.073, 0.699, 0.878]\n",
      "Epoch 45, Loss: 0.47, S:[0.92, 1.05, 0.806, 0.843, 0.699, 0.878]\n",
      "Epoch 46, Loss: 0.488, S:[0.92, 1.05, 0.806, 0.843, 0.699, 0.878]\n",
      "Epoch 47, Loss: 0.474, S:[0.92, 1.05, 0.806, 0.843, 0.699, 0.878]\n",
      "Epoch 48, Loss: 0.484, S:[0.92, 1.05, 0.806, 0.843, 0.699, 0.878]\n",
      "Epoch 49, Loss: 0.479, S:[0.92, 1.05, 0.806, 0.843, 0.699, 0.878]\n"
     ]
    },
    {
     "data": {
      "text/plain": [
       "[<matplotlib.lines.Line2D at 0x14986b3731f0>]"
      ]
     },
     "execution_count": 3,
     "metadata": {},
     "output_type": "execute_result"
    },
    {
     "data": {
      "image/png": "[encoded data removed]",
      "text/plain": [
       "<Figure size 432x288 with 1 Axes>"
      ]
     },
     "metadata": {
      "needs_background": "light"
     },
     "output_type": "display_data"
    }
   ],
   "source": [
    "model1,loss_history1 = train(\"GRU\",K,V,Y,dates_split,num_epochs,batch_size,hidden_size,learning_rate,loss_type)\n",
    "plt.plot(loss_history1)"
   ]
  },
  {
   "cell_type": "code",
   "execution_count": 13,
   "id": "5f3658f5",
   "metadata": {},
   "outputs": [],
   "source": [
    "name = pd.read_csv(\"Y_bert.csv\",index_col=0).columns.values[:J]"
   ]
  },
  {
   "cell_type": "code",
   "execution_count": 16,
   "id": "a2fa942e",
   "metadata": {},
   "outputs": [],
   "source": [
    "torch.save(model1.state_dict(),\"model.pth\")\n",
    "result1 = pd.DataFrame(model1.S.detach().numpy()).T\n",
    "result1.index = name\n",
    "result1.to_csv(\"s.csv\")\n",
    "pd.DataFrame(loss_history1).to_csv(\"loss.csv\")"
   ]
  }
 ],
 "metadata": {
  "kernelspec": {
   "display_name": "Python 3 (ipykernel)",
   "language": "python",
   "name": "python3"
  },
  "language_info": {
   "codemirror_mode": {
    "name": "ipython",
    "version": 3
   },
   "file_extension": ".py",
   "mimetype": "text/x-python",
   "name": "python",
   "nbconvert_exporter": "python",
   "pygments_lexer": "ipython3",
   "version": "3.9.7"
  }
 },
 "nbformat": 4,
 "nbformat_minor": 5
}
