{
 "cells": [
  {
   "cell_type": "markdown",
   "id": "1f3aafa3",
   "metadata": {},
   "source": [
    "## Preparation"
   ]
  },
  {
   "cell_type": "code",
   "execution_count": 2,
   "id": "7e3abdd8",
   "metadata": {},
   "outputs": [],
   "source": [
    "import pandas as pd\n",
    "import numpy as np\n",
    "import matplotlib.pyplot as plt"
   ]
  },
  {
   "cell_type": "code",
   "execution_count": 3,
   "id": "2a5fe8c6",
   "metadata": {},
   "outputs": [],
   "source": [
    "import yfinance as yf"
   ]
  },
  {
   "cell_type": "code",
   "execution_count": 4,
   "id": "02083e10",
   "metadata": {},
   "outputs": [],
   "source": [
    "ticker = pd.read_csv('ticker.csv',index_col=0)\n",
    "price = pd.read_csv('sp500.csv',index_col=0)"
   ]
  },
  {
   "cell_type": "markdown",
   "id": "f637563f",
   "metadata": {},
   "source": [
    "## Features"
   ]
  },
  {
   "cell_type": "code",
   "execution_count": 5,
   "id": "f13b7b6b",
   "metadata": {},
   "outputs": [],
   "source": [
    "finance = pd.DataFrame()\n",
    "finance.index = ticker[\"Symbol\"]"
   ]
  },
  {
   "cell_type": "markdown",
   "id": "52f1f34a",
   "metadata": {},
   "source": [
    "#### sector & industry"
   ]
  },
  {
   "cell_type": "code",
   "execution_count": 6,
   "id": "c4fb7b30",
   "metadata": {},
   "outputs": [],
   "source": [
    "def get_sector_and_industry(stock_symbol):\n",
    "    stock = yf.Ticker(stock_symbol)\n",
    "    sector = stock.info.get('sector', 'Not Available')\n",
    "    industry = stock.info.get('industry', 'Not Available')\n",
    "    return sector, industry"
   ]
  },
  {
   "cell_type": "code",
   "execution_count": 7,
   "id": "df3b77e6",
   "metadata": {},
   "outputs": [],
   "source": [
    "for tick in ticker[\"Symbol\"].values:\n",
    "    sector, industry = get_sector_and_industry(tick)\n",
    "    finance.loc[tick,\"sector\"] = sector\n",
    "    finance.loc[tick,\"industry\"] = industry"
   ]
  },
  {
   "cell_type": "markdown",
   "id": "e445baf3",
   "metadata": {},
   "source": [
    "#### volatility"
   ]
  },
  {
   "cell_type": "code",
   "execution_count": 8,
   "id": "74c53062",
   "metadata": {},
   "outputs": [],
   "source": [
    "for tick in ticker[\"Symbol\"].values:\n",
    "    try:\n",
    "        finance.loc[tick,\"std\"] = price.std()[tick]\n",
    "    except:\n",
    "        finance.loc[tick,\"std\"] = np.nan"
   ]
  },
  {
   "cell_type": "markdown",
   "id": "cbd64ae8",
   "metadata": {},
   "source": [
    "#### beta"
   ]
  },
  {
   "cell_type": "code",
   "execution_count": 9,
   "id": "17835508",
   "metadata": {},
   "outputs": [],
   "source": [
    "def get_beta(stock_symbol):\n",
    "    stock = yf.Ticker(stock_symbol)\n",
    "    beta = stock.info.get('beta', 'Not Available')\n",
    "    return beta"
   ]
  },
  {
   "cell_type": "code",
   "execution_count": 10,
   "id": "81de35cf",
   "metadata": {},
   "outputs": [],
   "source": [
    "for tick in ticker[\"Symbol\"].values:\n",
    "    beta = get_beta(tick)\n",
    "    finance.loc[tick,\"beta\"] = beta"
   ]
  },
  {
   "cell_type": "markdown",
   "id": "18ab7a72",
   "metadata": {},
   "source": [
    "#### PER"
   ]
  },
  {
   "cell_type": "code",
   "execution_count": 15,
   "id": "d58030e0",
   "metadata": {},
   "outputs": [],
   "source": [
    "def get_per(stock_symbol):\n",
    "    ticker = yf.Ticker(stock_symbol)\n",
    "    per = ticker.info.get('trailingPE', 'Not Available')\n",
    "    return per"
   ]
  },
  {
   "cell_type": "code",
   "execution_count": 16,
   "id": "3e0b4e50",
   "metadata": {},
   "outputs": [],
   "source": [
    "for tick in ticker[\"Symbol\"].values:\n",
    "    per = get_per(tick)\n",
    "    finance.loc[tick,\"per\"] = per"
   ]
  },
  {
   "cell_type": "markdown",
   "id": "5d2e39e5",
   "metadata": {},
   "source": [
    "## Save"
   ]
  },
  {
   "cell_type": "code",
   "execution_count": 17,
   "id": "0242bad2",
   "metadata": {},
   "outputs": [
    {
     "data": {
      "text/html": [
       "<div>\n",
       "<style scoped>\n",
       "    .dataframe tbody tr th:only-of-type {\n",
       "        vertical-align: middle;\n",
       "    }\n",
       "\n",
       "    .dataframe tbody tr th {\n",
       "        vertical-align: top;\n",
       "    }\n",
       "\n",
       "    .dataframe thead th {\n",
       "        text-align: right;\n",
       "    }\n",
       "</style>\n",
       "<table border=\"1\" class=\"dataframe\">\n",
       "  <thead>\n",
       "    <tr style=\"text-align: right;\">\n",
       "      <th></th>\n",
       "      <th>sector</th>\n",
       "      <th>industry</th>\n",
       "      <th>std</th>\n",
       "      <th>beta</th>\n",
       "      <th>per</th>\n",
       "    </tr>\n",
       "    <tr>\n",
       "      <th>Symbol</th>\n",
       "      <th></th>\n",
       "      <th></th>\n",
       "      <th></th>\n",
       "      <th></th>\n",
       "      <th></th>\n",
       "    </tr>\n",
       "  </thead>\n",
       "  <tbody>\n",
       "    <tr>\n",
       "      <th>AAPL</th>\n",
       "      <td>Technology</td>\n",
       "      <td>Consumer Electronics</td>\n",
       "      <td>54.820321</td>\n",
       "      <td>1.305</td>\n",
       "      <td>30.939741</td>\n",
       "    </tr>\n",
       "    <tr>\n",
       "      <th>MSFT</th>\n",
       "      <td>Technology</td>\n",
       "      <td>Software - Infrastructure</td>\n",
       "      <td>100.467979</td>\n",
       "      <td>0.885</td>\n",
       "      <td>36.64369</td>\n",
       "    </tr>\n",
       "    <tr>\n",
       "      <th>AMZN</th>\n",
       "      <td>Consumer Cyclical</td>\n",
       "      <td>Internet Retail</td>\n",
       "      <td>54.465363</td>\n",
       "      <td>1.175</td>\n",
       "      <td>76.82723</td>\n",
       "    </tr>\n",
       "    <tr>\n",
       "      <th>NVDA</th>\n",
       "      <td>Technology</td>\n",
       "      <td>Semiconductors</td>\n",
       "      <td>103.463050</td>\n",
       "      <td>1.694</td>\n",
       "      <td>114.84616</td>\n",
       "    </tr>\n",
       "    <tr>\n",
       "      <th>GOOGL</th>\n",
       "      <td>Communication Services</td>\n",
       "      <td>Internet Content &amp; Information</td>\n",
       "      <td>38.608283</td>\n",
       "      <td>1.05</td>\n",
       "      <td>26.185825</td>\n",
       "    </tr>\n",
       "  </tbody>\n",
       "</table>\n",
       "</div>"
      ],
      "text/plain": [
       "                        sector                        industry         std  \\\n",
       "Symbol                                                                       \n",
       "AAPL                Technology            Consumer Electronics   54.820321   \n",
       "MSFT                Technology       Software - Infrastructure  100.467979   \n",
       "AMZN         Consumer Cyclical                 Internet Retail   54.465363   \n",
       "NVDA                Technology                  Semiconductors  103.463050   \n",
       "GOOGL   Communication Services  Internet Content & Information   38.608283   \n",
       "\n",
       "         beta        per  \n",
       "Symbol                    \n",
       "AAPL    1.305  30.939741  \n",
       "MSFT    0.885   36.64369  \n",
       "AMZN    1.175   76.82723  \n",
       "NVDA    1.694  114.84616  \n",
       "GOOGL    1.05  26.185825  "
      ]
     },
     "execution_count": 17,
     "metadata": {},
     "output_type": "execute_result"
    }
   ],
   "source": [
    "finance.head()"
   ]
  },
  {
   "cell_type": "code",
   "execution_count": 18,
   "id": "35f7bf73",
   "metadata": {},
   "outputs": [],
   "source": [
    "finance.to_csv(\"finance.csv\")"
   ]
  }
 ],
 "metadata": {
  "kernelspec": {
   "display_name": "Python 3 (ipykernel)",
   "language": "python",
   "name": "python3"
  },
  "language_info": {
   "codemirror_mode": {
    "name": "ipython",
    "version": 3
   },
   "file_extension": ".py",
   "mimetype": "text/x-python",
   "name": "python",
   "nbconvert_exporter": "python",
   "pygments_lexer": "ipython3",
   "version": "3.11.5"
  }
 },
 "nbformat": 4,
 "nbformat_minor": 5
}
